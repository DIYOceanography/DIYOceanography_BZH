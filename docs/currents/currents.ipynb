{
 "cells": [
  {
   "cell_type": "markdown",
   "id": "d0b8bdbc-1cce-420e-8a7e-3519095346ba",
   "metadata": {},
   "source": [
    "# currents\n",
    "\n",
    "*summary about why we care about currents*"
   ]
  },
  {
   "cell_type": "markdown",
   "id": "0d788d34",
   "metadata": {},
   "source": [
    "---\n",
    "\n",
    "## sensing physics\n"
   ]
  },
  {
   "cell_type": "code",
   "execution_count": 5,
   "id": "4c32b993-27c7-4b1e-be14-1f0ff0458623",
   "metadata": {
    "tags": [
     "remove-input"
    ]
   },
   "outputs": [],
   "source": [
    "# To hide code from jupyter rendering add \"remove-input\" tag in cell, see: \n",
    "#    https://jupyterbook.org/en/stable/content/metadata.html#jupyter-cell-tags\n",
    "\n",
    "# pandas and html links:\n",
    "#    https://github.com/softhints/Pandas-Tutorials/blob/master/styling/create-clickable-link-pandas-dataframe-jupyterlab.ipynb?ref=datascientyst.com\n",
    "\n",
    "# caption and link for code generated figures:\n",
    "#   https://github.com/executablebooks/jupyter-book/issues/1565\n",
    "\n",
    "from IPython.display import HTML\n",
    "import numpy as np\n",
    "import pandas as pd\n",
    "import xarray as xr\n",
    "import matplotlib.pyplot as plt\n",
    "import myst_nb\n",
    "import gsw\n",
    "\n",
    "\n",
    "class PDF(object):\n",
    "  def __init__(self, pdf, size=(200,200)):\n",
    "    self.pdf = pdf\n",
    "    self.size = size\n",
    "\n",
    "  def _repr_html_(self):\n",
    "    return '<iframe src={0} width={1[0]} height={1[1]}></iframe>'.format(self.pdf, self.size)\n",
    "\n",
    "  def _repr_latex_(self):\n",
    "    return r'\\includegraphics[width=1.0\\textwidth]{{{0}}}'.format(self.pdf)"
   ]
  },
  {
   "cell_type": "markdown",
   "id": "bb634fbc-a370-441e-8d96-9bb75a55d9b2",
   "metadata": {},
   "source": [
    "### currents"
   ]
  },
  {
   "cell_type": "code",
   "execution_count": 6,
   "id": "6a8e8a29-d628-44ed-9f00-766d4debd895",
   "metadata": {
    "tags": [
     "remove-input"
    ]
   },
   "outputs": [
    {
     "data": {
      "text/html": [
       "<iframe src=../_static/interlude_currents.pdf width=800 height=500></iframe>"
      ],
      "text/latex": [
       "\\includegraphics[width=1.0\\textwidth]{../_static/interlude_currents.pdf}"
      ],
      "text/plain": [
       "<__main__.PDF at 0x115f6ece0>"
      ]
     },
     "execution_count": 6,
     "metadata": {},
     "output_type": "execute_result"
    }
   ],
   "source": [
    "PDF(\"../_static/interlude_currents.pdf\", size=(800,500))"
   ]
  },
  {
   "cell_type": "markdown",
   "id": "c6935872-a4f5-4511-b924-772e06193d5c",
   "metadata": {},
   "source": [
    "### focus on ADCP performance:"
   ]
  },
  {
   "cell_type": "code",
   "execution_count": 2,
   "id": "f11722b0-4ec2-4c76-89f0-db0ccce9e845",
   "metadata": {
    "tags": [
     "remove-input"
    ]
   },
   "outputs": [
    {
     "data": {
      "text/html": [
       "<iframe src=../_static/interlude_adcp_perf.pdf width=800 height=500></iframe>"
      ],
      "text/latex": [
       "\\includegraphics[width=1.0\\textwidth]{../_static/interlude_adcp_perf.pdf}"
      ],
      "text/plain": [
       "<__main__.PDF at 0x103de8880>"
      ]
     },
     "execution_count": 2,
     "metadata": {},
     "output_type": "execute_result"
    }
   ],
   "source": [
    "PDF(\"../_static/interlude_adcp_perf.pdf\", size=(800,500))"
   ]
  },
  {
   "cell_type": "markdown",
   "id": "5c2e28d6",
   "metadata": {},
   "source": [
    "---\n",
    "## Available sensors\n",
    "\n",
    "*... to do*"
   ]
  },
  {
   "cell_type": "code",
   "execution_count": 4,
   "id": "9163a12a",
   "metadata": {
    "tags": [
     "remove-input"
    ]
   },
   "outputs": [],
   "source": [
    "# https://pandas.pydata.org/pandas-docs/stable/user_guide/style.html \n",
    "\n",
    "if False:\n",
    "\n",
    "    s = (\n",
    "        pd.read_csv(\"sensors.csv\", skiprows=1)\n",
    "        .rename(columns=lambda x: x.strip())\n",
    "        .set_index(\"sensor name\")\n",
    "    )\n",
    "    # duplicate column to have an artificially wide table\n",
    "    #s = pd.concat([s,s,s], axis=1)\n",
    "    #s = pd.concat([s,]*10, axis=0) \n",
    "\n",
    "    # can't \n",
    "    # https://stackoverflow.com/questions/76157621/pandas-sticky-column-headers-using-styler-not-working-sticky-index-rows-works-g\n",
    "    # https://stackoverflow.com/questions/42724327/pandas-dataframe-table-vertical-scrollbars\n",
    "    HTML(\n",
    "        s\n",
    "        .to_html(render_links=True, escape=False, na_rep=\" \")\n",
    "        #.style.set_sticky(axis=\"index\").set_sticky(axis=\"columns\")\n",
    "    )\n",
    "\n",
    "    # not satisfactory as it hides rows\n",
    "    #HTML(s.style.set_sticky(axis=\"columns\").to_html(render_links=True, escape=False, max_rows=5))"
   ]
  }
 ],
 "metadata": {
  "kernelspec": {
   "display_name": "Python 3 (ipykernel)",
   "language": "python",
   "name": "python3"
  },
  "language_info": {
   "codemirror_mode": {
    "name": "ipython",
    "version": 3
   },
   "file_extension": ".py",
   "mimetype": "text/x-python",
   "name": "python",
   "nbconvert_exporter": "python",
   "pygments_lexer": "ipython3",
   "version": "3.10.11"
  }
 },
 "nbformat": 4,
 "nbformat_minor": 5
}
