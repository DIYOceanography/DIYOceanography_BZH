{
 "cells": [
  {
   "cell_type": "markdown",
   "id": "d0b8bdbc-1cce-420e-8a7e-3519095346ba",
   "metadata": {},
   "source": [
    "# temperature\n",
    "\n",
    "*summary about why we care about temperature*"
   ]
  },
  {
   "cell_type": "markdown",
   "id": "0d788d34",
   "metadata": {},
   "source": [
    "---\n",
    "\n",
    "## background, sensing physics"
   ]
  },
  {
   "cell_type": "code",
   "execution_count": 1,
   "id": "02269056-4819-4e23-a579-4a38a82fd887",
   "metadata": {
    "tags": [
     "remove-input"
    ]
   },
   "outputs": [
    {
     "data": {
      "text/html": [
       "<iframe src=../_static/interlude_temperature.pdf width=900 height=500></iframe>"
      ],
      "text/latex": [
       "\\includegraphics[width=1.0\\textwidth]{../_static/interlude_temperature.pdf}"
      ],
      "text/plain": [
       "<__main__.PDF at 0x112799b70>"
      ]
     },
     "execution_count": 1,
     "metadata": {},
     "output_type": "execute_result"
    }
   ],
   "source": [
    "class PDF(object):\n",
    "  def __init__(self, pdf, size=(200,200)):\n",
    "    self.pdf = pdf\n",
    "    self.size = size\n",
    "\n",
    "  def _repr_html_(self):\n",
    "    return '<iframe src={0} width={1[0]} height={1[1]}></iframe>'.format(self.pdf, self.size)\n",
    "\n",
    "  def _repr_latex_(self):\n",
    "    return r'\\includegraphics[width=1.0\\textwidth]{{{0}}}'.format(self.pdf)\n",
    "  \n",
    "PDF(\"../_static/interlude_temperature.pdf\", size=(900,500))"
   ]
  },
  {
   "cell_type": "markdown",
   "id": "5c2e28d6",
   "metadata": {},
   "source": [
    "---\n",
    "## Available sensors\n",
    "\n",
    "*to do*"
   ]
  },
  {
   "cell_type": "raw",
   "id": "dc013310-6912-4dc3-8d89-9d1b33593b3e",
   "metadata": {
    "tags": [
     "remove-input"
    ]
   },
   "source": [
    "# https://pandas.pydata.org/pandas-docs/stable/user_guide/style.html \n",
    "\n",
    "s = (\n",
    "    pd.read_csv(\"sensors.csv\")\n",
    "    .rename(columns=lambda x: x.strip())\n",
    "    .set_index(\"Capteur\")\n",
    ")\n",
    "# duplicate column to have an artificially wide table\n",
    "s = pd.concat([s,s,s], axis=1)\n",
    "s = pd.concat([s,]*10, axis=0) \n",
    "\n",
    "# can't \n",
    "\n",
    "# https://stackoverflow.com/questions/76157621/pandas-sticky-column-headers-using-styler-not-working-sticky-index-rows-works-g\n",
    "# https://stackoverflow.com/questions/42724327/pandas-dataframe-table-vertical-scrollbars\n",
    "HTML(\n",
    "    s\n",
    "    #.style.set_sticky(axis=\"index\").set_sticky(axis=\"columns\")    \n",
    "    .to_html(render_links=True, escape=False)\n",
    ")\n",
    "\n",
    "# not satisfactory as it hides rows\n",
    "#HTML(s.style.set_sticky(axis=\"columns\").to_html(render_links=True, escape=False, max_rows=5))"
   ]
  }
 ],
 "metadata": {
  "kernelspec": {
   "display_name": "Python 3 (ipykernel)",
   "language": "python",
   "name": "python3"
  },
  "language_info": {
   "codemirror_mode": {
    "name": "ipython",
    "version": 3
   },
   "file_extension": ".py",
   "mimetype": "text/x-python",
   "name": "python",
   "nbconvert_exporter": "python",
   "pygments_lexer": "ipython3",
   "version": "3.10.11"
  }
 },
 "nbformat": 4,
 "nbformat_minor": 5
}
