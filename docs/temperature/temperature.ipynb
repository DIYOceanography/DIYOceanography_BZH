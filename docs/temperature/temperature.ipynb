{
 "cells": [
  {
   "cell_type": "markdown",
   "id": "d0b8bdbc-1cce-420e-8a7e-3519095346ba",
   "metadata": {},
   "source": [
    "# temperature\n",
    "\n",
    "*summary about why we care about temperature*"
   ]
  },
  {
   "cell_type": "markdown",
   "id": "0d788d34",
   "metadata": {},
   "source": [
    "---\n",
    "\n",
    "## background, sensing physics"
   ]
  },
  {
   "cell_type": "code",
   "execution_count": 1,
   "id": "c7c8c4d9-00aa-4275-a467-2e44f82d1c0e",
   "metadata": {
    "tags": [
     "remove-input"
    ]
   },
   "outputs": [],
   "source": [
    "from IPython.display import HTML\n",
    "import numpy as np\n",
    "import pandas as pd\n",
    "import xarray as xr\n",
    "import matplotlib.pyplot as plt\n",
    "import myst_nb\n",
    "import gsw"
   ]
  },
  {
   "cell_type": "code",
   "execution_count": 1,
   "id": "02269056-4819-4e23-a579-4a38a82fd887",
   "metadata": {
    "tags": [
     "remove-input"
    ]
   },
   "outputs": [
    {
     "data": {
      "text/html": [
       "<iframe src=../_static/interlude_temperature.pdf width=800 height=500></iframe>"
      ],
      "text/latex": [
       "\\includegraphics[width=1.0\\textwidth]{../_static/interlude_temperature.pdf}"
      ],
      "text/plain": [
       "<__main__.PDF at 0x111246380>"
      ]
     },
     "execution_count": 1,
     "metadata": {},
     "output_type": "execute_result"
    }
   ],
   "source": [
    "class PDF(object):\n",
    "  def __init__(self, pdf, size=(200,200)):\n",
    "    self.pdf = pdf\n",
    "    self.size = size\n",
    "\n",
    "  def _repr_html_(self):\n",
    "    return '<iframe src={0} width={1[0]} height={1[1]}></iframe>'.format(self.pdf, self.size)\n",
    "\n",
    "  def _repr_latex_(self):\n",
    "    return r'\\includegraphics[width=1.0\\textwidth]{{{0}}}'.format(self.pdf)\n",
    "  \n",
    "PDF(\"../_static/interlude_temperature.pdf\", size=(800,500))"
   ]
  },
  {
   "cell_type": "markdown",
   "id": "5c2e28d6",
   "metadata": {},
   "source": [
    "---\n",
    "## Available sensors"
   ]
  },
  {
   "cell_type": "code",
   "execution_count": 3,
   "id": "16e9125e-8832-487e-9939-4a912b23b0f1",
   "metadata": {
    "tags": [
     "remove-input"
    ]
   },
   "outputs": [
    {
     "data": {
      "text/html": [
       "<table border=\"1\" class=\"dataframe\">\n",
       "  <thead>\n",
       "    <tr style=\"text-align: right;\">\n",
       "      <th></th>\n",
       "      <th>technology</th>\n",
       "      <th>absolute \n",
       "accuracy</th>\n",
       "      <th>Range</th>\n",
       "      <th>relative\n",
       "accuracy</th>\n",
       "      <th>Response time</th>\n",
       "      <th>max sampling\n",
       " frequency</th>\n",
       "      <th>stability</th>\n",
       "      <th>validation level</th>\n",
       "      <th>link to \n",
       "validation document</th>\n",
       "      <th>mecanical\n",
       "integration</th>\n",
       "      <th>maximum depth</th>\n",
       "      <th>electronical integration \n",
       "communication interface</th>\n",
       "      <th>cost</th>\n",
       "      <th>lnk \n",
       "doc technique</th>\n",
       "      <th>supplying\n",
       "company</th>\n",
       "    </tr>\n",
       "    <tr>\n",
       "      <th>sensor name</th>\n",
       "      <th></th>\n",
       "      <th></th>\n",
       "      <th></th>\n",
       "      <th></th>\n",
       "      <th></th>\n",
       "      <th></th>\n",
       "      <th></th>\n",
       "      <th></th>\n",
       "      <th></th>\n",
       "      <th></th>\n",
       "      <th></th>\n",
       "      <th></th>\n",
       "      <th></th>\n",
       "      <th></th>\n",
       "      <th></th>\n",
       "    </tr>\n",
       "  </thead>\n",
       "  <tbody>\n",
       "    <tr>\n",
       "      <th>Hobo Onset temperature</th>\n",
       "      <td></td>\n",
       "      <td></td>\n",
       "      <td></td>\n",
       "      <td></td>\n",
       "      <td></td>\n",
       "      <td></td>\n",
       "      <td></td>\n",
       "      <td></td>\n",
       "      <td>170 (2023)</td>\n",
       "      <td></td>\n",
       "      <td></td>\n",
       "      <td>Prosensor</td>\n",
       "      <td></td>\n",
       "      <td></td>\n",
       "      <td></td>\n",
       "    </tr>\n",
       "    <tr>\n",
       "      <th>Waterproof DS18B20 Digital Temperature Sensor for Arduino</th>\n",
       "      <td></td>\n",
       "      <td>0,5°C</td>\n",
       "      <td>-10 -> 85°C</td>\n",
       "      <td></td>\n",
       "      <td></td>\n",
       "      <td></td>\n",
       "      <td></td>\n",
       "      <td></td>\n",
       "      <td>7</td>\n",
       "      <td></td>\n",
       "      <td></td>\n",
       "      <td><a href=\"https://www.dfrobot.com/product-689.html\" target=\"_blank\">https://www.dfrobot.com/product-689.html</a></td>\n",
       "      <td></td>\n",
       "      <td></td>\n",
       "      <td></td>\n",
       "    </tr>\n",
       "    <tr>\n",
       "      <th>PT-1000 Temperature Kit #KIT-301 Atlas Scientific</th>\n",
       "      <td></td>\n",
       "      <td></td>\n",
       "      <td></td>\n",
       "      <td></td>\n",
       "      <td></td>\n",
       "      <td></td>\n",
       "      <td></td>\n",
       "      <td></td>\n",
       "      <td>30</td>\n",
       "      <td></td>\n",
       "      <td></td>\n",
       "      <td><a href=\"https://atlas-scientific.com/kits/surveyor-rtd-analog-kit/\" target=\"_blank\">https://atlas-scientific.com/kits/surveyor-rtd-analog-kit/</a></td>\n",
       "      <td></td>\n",
       "      <td></td>\n",
       "      <td></td>\n",
       "    </tr>\n",
       "    <tr>\n",
       "      <th>Aginova Sentinel Micro (ASM)</th>\n",
       "      <td>Thermistance</td>\n",
       "      <td></td>\n",
       "      <td></td>\n",
       "      <td></td>\n",
       "      <td></td>\n",
       "      <td></td>\n",
       "      <td></td>\n",
       "      <td></td>\n",
       "      <td></td>\n",
       "      <td></td>\n",
       "      <td></td>\n",
       "      <td></td>\n",
       "      <td></td>\n",
       "      <td></td>\n",
       "      <td></td>\n",
       "    </tr>\n",
       "    <tr>\n",
       "      <th>Measurement Specialties (ex-betatherm, désormais filiale de TE connectivity)</th>\n",
       "      <td>Fabricant de capteurs PRT/ Thermistances</td>\n",
       "      <td>Selon spécifications</td>\n",
       "      <td></td>\n",
       "      <td></td>\n",
       "      <td></td>\n",
       "      <td></td>\n",
       "      <td></td>\n",
       "      <td></td>\n",
       "      <td></td>\n",
       "      <td></td>\n",
       "      <td></td>\n",
       "      <td></td>\n",
       "      <td></td>\n",
       "      <td></td>\n",
       "      <td></td>\n",
       "    </tr>\n",
       "    <tr>\n",
       "      <th>Fluke 5640/5641/5642</th>\n",
       "      <td>Thermistance</td>\n",
       "      <td>0.001°C avec électronique (chère) vendue par Fluke.</td>\n",
       "      <td>0-> 60°C</td>\n",
       "      <td></td>\n",
       "      <td></td>\n",
       "      <td></td>\n",
       "      <td></td>\n",
       "      <td></td>\n",
       "      <td></td>\n",
       "      <td>dans chemise inox 316, mais avec fils (pas forcément évident à intégrer sur un caisson étanche).</td>\n",
       "      <td></td>\n",
       "      <td></td>\n",
       "      <td>Demande de devis envoyée</td>\n",
       "      <td><a href=\"https://eu.flukecal.com/products/temperature-calibration/probes-sensors/thermistors/5640-series-thermistor-standards-probes?quicktabs_product_details=1\" target=\"_blank\">https://eu.flukecal.com/products/temperature-calibration/probes-sensors/thermistors/5640-series-thermistor-standards-probes?quicktabs_product_details=1</a></td>\n",
       "      <td></td>\n",
       "    </tr>\n",
       "    <tr>\n",
       "      <th>Blue Robotics temperature sensor</th>\n",
       "      <td>Digital Temperature Sensor</td>\n",
       "      <td>± 0.1°C (between -5 to 50°C)\\n± 0.5°C (between -40 to 125°C)</td>\n",
       "      <td>-40 to +125°C</td>\n",
       "      <td></td>\n",
       "      <td>1s - 0.5 m/s flow\\n2s - still water</td>\n",
       "      <td></td>\n",
       "      <td></td>\n",
       "      <td></td>\n",
       "      <td></td>\n",
       "      <td>O-ring, M-10 threaded</td>\n",
       "      <td>1000m</td>\n",
       "      <td>I2C</td>\n",
       "      <td>70$</td>\n",
       "      <td><a href=\"https://www.te.com/commerce/DocumentDelivery/DDEController?Action=showdoc&DocId=Data+Sheet%7FTSYS01%7FA%7Fpdf%7FEnglish%7FENG_DS_TSYS01_A.pdf%7FG-NICO-018\" target=\"_blank\">https://www.te.com/commerce/DocumentDelivery/DDEController?Action=showdoc&DocId=Data+Sheet%7FTSYS01%7FA%7Fpdf%7FEnglish%7FENG_DS_TSYS01_A.pdf%7FG-NICO-018</a></td>\n",
       "      <td>Blue Robotics</td>\n",
       "    </tr>\n",
       "  </tbody>\n",
       "</table>"
      ],
      "text/plain": [
       "<IPython.core.display.HTML object>"
      ]
     },
     "execution_count": 3,
     "metadata": {},
     "output_type": "execute_result"
    }
   ],
   "source": [
    "# https://pandas.pydata.org/pandas-docs/stable/user_guide/style.html \n",
    "\n",
    "s = (\n",
    "    pd.read_csv(\"sensors.csv\", skiprows=1)\n",
    "    .rename(columns=lambda x: x.strip())\n",
    "    .set_index(\"sensor name\")\n",
    ")\n",
    "# duplicate column to have an artificially wide table\n",
    "#s = pd.concat([s,s,s], axis=1)\n",
    "#s = pd.concat([s,]*10, axis=0) \n",
    "\n",
    "# can't \n",
    "# https://stackoverflow.com/questions/76157621/pandas-sticky-column-headers-using-styler-not-working-sticky-index-rows-works-g\n",
    "# https://stackoverflow.com/questions/42724327/pandas-dataframe-table-vertical-scrollbars\n",
    "HTML(\n",
    "    s\n",
    "    .to_html(render_links=True, escape=False, na_rep=\" \")\n",
    "    #.style.set_sticky(axis=\"index\").set_sticky(axis=\"columns\")\n",
    ")\n",
    "\n",
    "# not satisfactory as it hides rows\n",
    "#HTML(s.style.set_sticky(axis=\"columns\").to_html(render_links=True, escape=False, max_rows=5))"
   ]
  },
  {
   "cell_type": "code",
   "execution_count": null,
   "id": "d95549a4-506f-47e8-983c-931a9971de37",
   "metadata": {},
   "outputs": [],
   "source": []
  }
 ],
 "metadata": {
  "kernelspec": {
   "display_name": "Python 3 (ipykernel)",
   "language": "python",
   "name": "python3"
  },
  "language_info": {
   "codemirror_mode": {
    "name": "ipython",
    "version": 3
   },
   "file_extension": ".py",
   "mimetype": "text/x-python",
   "name": "python",
   "nbconvert_exporter": "python",
   "pygments_lexer": "ipython3",
   "version": "3.10.11"
  }
 },
 "nbformat": 4,
 "nbformat_minor": 5
}
