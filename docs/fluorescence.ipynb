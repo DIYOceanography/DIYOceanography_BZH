{
 "cells": [
  {
   "cell_type": "markdown",
   "id": "d0b8bdbc-1cce-420e-8a7e-3519095346ba",
   "metadata": {},
   "source": [
    "# fluorescence\n",
    "\n",
    "This is a test rendering pdf"
   ]
  },
  {
   "cell_type": "code",
   "execution_count": 1,
   "id": "335f7e36-45e9-4049-af87-5c2631537165",
   "metadata": {
    "jupyter": {
     "source_hidden": true
    },
    "tags": []
   },
   "outputs": [],
   "source": [
    "class PDF(object):\n",
    "  def __init__(self, pdf, size=(200,200)):\n",
    "    self.pdf = pdf\n",
    "    self.size = size\n",
    "\n",
    "  def _repr_html_(self):\n",
    "    return '<iframe src={0} width={1[0]} height={1[1]}></iframe>'.format(self.pdf, self.size)\n",
    "\n",
    "  def _repr_latex_(self):\n",
    "    return r'\\includegraphics[width=1.0\\textwidth]{{{0}}}'.format(self.pdf)"
   ]
  },
  {
   "cell_type": "code",
   "execution_count": 2,
   "id": "fd763668-6f7c-4086-96a4-661235c11b79",
   "metadata": {
    "jupyter": {
     "source_hidden": true
    },
    "scrolled": true,
    "tags": []
   },
   "outputs": [
    {
     "data": {
      "text/html": [
       "<iframe src=_static/interlude_fluorescence.pdf width=800 height=500></iframe>"
      ],
      "text/latex": [
       "\\includegraphics[width=1.0\\textwidth]{_static/interlude_fluorescence.pdf}"
      ],
      "text/plain": [
       "<__main__.PDF at 0x243d8e3ef10>"
      ]
     },
     "execution_count": 2,
     "metadata": {},
     "output_type": "execute_result"
    }
   ],
   "source": [
    "PDF(\"_static/interlude_fluorescence.pdf\", size=(800,500))"
   ]
  },
  {
   "cell_type": "markdown",
   "id": "51318dfd",
   "metadata": {},
   "source": [
    "| Capteur | EOV/EBV | Matériel Principal | Dénomination | Article scientifique | Coût | Dissémination | Profondeur max | Gamme de mesure | Erreur de mesure | Erreur systématique | Capteur de comparaison |\n",
    "| :-------: | :-----------: | :----------: | :--------------------------: | :--------------------: | :-------------------------------: | :----------: | :-----------: | :-----------: | :-----------: | :-----------: | :-----------: |\n",
    "| [SmartFluo: A Method and Affordable Adapter to Measure Chlorophyll a Fluorescence with Smartphones](https://www.mdpi.com/1424-8220/17/4/678) | Chlorophylle A | Smartphone | Open-source, Low cost | 2017 | 30€ - 70€ + smartphone | Espagne, Irlande, Allemagne, Norvège | Surface | Min: 10µg/L - Max: 250µg/L | 1DN/s < e < 80DN/s (DN: Digit number) | N.C | LS 55, PerkinElmer (R²= 0.98) |\n",
    "| [In situ Measurements of Phytoplankton Fluorescence Using Low Cost Electronics](https://www.mdpi.com/1424-8220/13/6/7872) | Chlorophylle A | Arduino | Low cost | 2013 | 150$\\$$ | Etats-Unis (rivière) | 2m | Min: 0.3µg/L - Max: 100µg/L | e ≥ 0.3µg/L | 4$\\%$ comparer à un instrument commercial | WETStar (R²= 0.886) |\n",
    "|[A low-cost and portable fluorometer based on an optical pick-up unit for chlorophyll-a detection](https://www.sciencedirect.com/science/article/pii/S0039914023011980)| Chlorophylle A | Arduino, Lecteur DVD | Low cost | 2023 | 140$\\$$ | N.C | Surface | Min: 0.35µg/L - Max: 100µg/L | e ≤ 4 µg/L  | < 4$\\%$  N.C |\n",
    "|[A Low-Cost Fluorometer Applied to the Gulf of Saint Lawrence Rhodamine Tracer Experiment](https://ieeexplore.ieee.org/abstract/document/10149195)|Rhodamine| Custom PCB| Low cost | 2023 | 750$\\$$ | Quebec | Surface | Min: 0.2µg/L - Max:60µg/L | 0,11mV ≤ e ≤ 0,37mV | 2$\\%$ | Turner Cyclops-7 et AML X2Change (R²0.99)|"
   ]
  },
  {
   "cell_type": "code",
   "execution_count": null,
   "id": "aa1272ac",
   "metadata": {},
   "outputs": [],
   "source": []
  }
 ],
 "metadata": {
  "kernelspec": {
   "display_name": "Python 3 (ipykernel)",
   "language": "python",
   "name": "python3"
  },
  "language_info": {
   "codemirror_mode": {
    "name": "ipython",
    "version": 3
   },
   "file_extension": ".py",
   "mimetype": "text/x-python",
   "name": "python",
   "nbconvert_exporter": "python",
   "pygments_lexer": "ipython3",
   "version": "3.11.5"
  }
 },
 "nbformat": 4,
 "nbformat_minor": 5
}
