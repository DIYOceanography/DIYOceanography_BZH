{
 "cells": [
  {
   "cell_type": "markdown",
   "id": "d0b8bdbc-1cce-420e-8a7e-3519095346ba",
   "metadata": {},
   "source": [
    "# fluorescence\n",
    "\n",
    "This is a test rendering pdf"
   ]
  },
  {
   "cell_type": "code",
   "execution_count": 1,
   "id": "335f7e36-45e9-4049-af87-5c2631537165",
   "metadata": {
    "jupyter": {
     "source_hidden": true
    },
    "tags": []
   },
   "outputs": [],
   "source": [
    "class PDF(object):\n",
    "  def __init__(self, pdf, size=(200,200)):\n",
    "    self.pdf = pdf\n",
    "    self.size = size\n",
    "\n",
    "  def _repr_html_(self):\n",
    "    return '<iframe src={0} width={1[0]} height={1[1]}></iframe>'.format(self.pdf, self.size)\n",
    "\n",
    "  def _repr_latex_(self):\n",
    "    return r'\\includegraphics[width=1.0\\textwidth]{{{0}}}'.format(self.pdf)"
   ]
  },
  {
   "cell_type": "code",
   "execution_count": 6,
   "id": "fd763668-6f7c-4086-96a4-661235c11b79",
   "metadata": {
    "jupyter": {
     "source_hidden": true
    },
    "tags": []
   },
   "outputs": [
    {
     "data": {
      "text/html": [
       "<iframe src=_static/test.pdf width=800 height=500></iframe>"
      ],
      "text/latex": [
       "\\includegraphics[width=1.0\\textwidth]{_static/test.pdf}"
      ],
      "text/plain": [
       "<__main__.PDF at 0x112bac880>"
      ]
     },
     "execution_count": 6,
     "metadata": {},
     "output_type": "execute_result"
    }
   ],
   "source": [
    "PDF(\"_static/test.pdf\", size=(800,500))"
   ]
  }
 ],
 "metadata": {
  "kernelspec": {
   "display_name": "Python 3 (ipykernel)",
   "language": "python",
   "name": "python3"
  },
  "language_info": {
   "codemirror_mode": {
    "name": "ipython",
    "version": 3
   },
   "file_extension": ".py",
   "mimetype": "text/x-python",
   "name": "python",
   "nbconvert_exporter": "python",
   "pygments_lexer": "ipython3",
   "version": "3.10.11"
  }
 },
 "nbformat": 4,
 "nbformat_minor": 5
}
