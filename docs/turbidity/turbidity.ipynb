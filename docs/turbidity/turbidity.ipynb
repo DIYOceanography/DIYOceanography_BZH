{
 "cells": [
  {
   "cell_type": "markdown",
   "id": "d0b8bdbc-1cce-420e-8a7e-3519095346ba",
   "metadata": {},
   "source": [
    "# turbidity\n",
    "\n",
    "Turbidity and suspended sediment concentration are crucial parameters as example for waste water treatment, drinking water quality, aquaculture and understanding coastal ecosystems. It is used in different aquatic areas likes fluvial, marine, glacial, coastal and estuarial fields [Kichener et al. 2017].\n",
    "Turbidity is a physical property of fluids that translates into their reduced optical transparency, cloudiness or haziness due to the presence of suspended material that blocks the transmission of light [Matos et al. 2024]. This physical property is caused by interaction between light and particle matter, particularly by absorption and scaterring process. This effect could be detected by three ways : mainly with optical methods ; acoustic backscatter sensors ; satellite and aerial imaging.\n",
    "\n",
    "**contributions:**\n",
    "\n",
    "- Matthias Jacquet: 10/2024"
   ]
  },
  {
   "cell_type": "markdown",
   "id": "0d788d34",
   "metadata": {},
   "source": [
    "---\n",
    "\n",
    "## background, sensing physics"
   ]
  },
  {
   "cell_type": "code",
   "execution_count": 1,
   "id": "02269056-4819-4e23-a579-4a38a82fd887",
   "metadata": {
    "tags": [
     "remove-input"
    ]
   },
   "outputs": [
    {
     "data": {
      "text/html": [
       "<iframe src=../_static/interlude_turbidity.pdf width=800 height=500 toolbar=../_static/interlude_turbidity.pdf></iframe>"
      ],
      "text/latex": [
       "\\includegraphics[width=1.0\\textwidth]{../_static/interlude_turbidity.pdf}"
      ],
      "text/plain": [
       "<__main__.PDF at 0x106093890>"
      ]
     },
     "execution_count": 1,
     "metadata": {},
     "output_type": "execute_result"
    }
   ],
   "source": [
    "class PDF(object):\n",
    "  def __init__(self, pdf, size=(200,200)):\n",
    "    self.pdf = pdf\n",
    "    self.size = size\n",
    "\n",
    "  def _repr_html_(self):\n",
    "    return '<iframe src={0} width={1[0]} height={1[1]} toolbar={0}></iframe>'.format(self.pdf, self.size)\n",
    "\n",
    "  def _repr_latex_(self):\n",
    "    return r'\\includegraphics[width=1.0\\textwidth]{{{0}}}'.format(self.pdf)\n",
    "  \n",
    "PDF(\"../_static/interlude_turbidity.pdf\", size=(800,500))"
   ]
  },
  {
   "cell_type": "markdown",
   "id": "5c2e28d6",
   "metadata": {},
   "source": [
    "---\n",
    "## Available sensors\n"
   ]
  },
  {
   "cell_type": "code",
   "execution_count": 5,
   "id": "8f96506a-6ac9-48a2-92b0-e09f72de4185",
   "metadata": {
    "tags": [
     "remove-input"
    ]
   },
   "outputs": [
    {
     "data": {
      "text/html": [
       "<table border=\"1\" class=\"dataframe\">\n",
       "  <thead>\n",
       "    <tr style=\"text-align: right;\">\n",
       "      <th></th>\n",
       "      <th>technology</th>\n",
       "      <th>absolute \n",
       "accuracy</th>\n",
       "      <th>Range</th>\n",
       "      <th>relative\n",
       "accuracy</th>\n",
       "      <th>Response time</th>\n",
       "      <th>max sampling\n",
       " frequency</th>\n",
       "      <th>stability</th>\n",
       "      <th>validation level</th>\n",
       "      <th>link to \n",
       "validation document</th>\n",
       "      <th>mecanical\n",
       "integration</th>\n",
       "      <th>maximum depth</th>\n",
       "      <th>electronical integration \n",
       "communication interface</th>\n",
       "      <th>cost</th>\n",
       "      <th>Datasheet link</th>\n",
       "      <th>supplying\n",
       "company</th>\n",
       "    </tr>\n",
       "    <tr>\n",
       "      <th>sensor name</th>\n",
       "      <th></th>\n",
       "      <th></th>\n",
       "      <th></th>\n",
       "      <th></th>\n",
       "      <th></th>\n",
       "      <th></th>\n",
       "      <th></th>\n",
       "      <th></th>\n",
       "      <th></th>\n",
       "      <th></th>\n",
       "      <th></th>\n",
       "      <th></th>\n",
       "      <th></th>\n",
       "      <th></th>\n",
       "      <th></th>\n",
       "    </tr>\n",
       "  </thead>\n",
       "  <tbody>\n",
       "    <tr>\n",
       "      <th>ECO NTU\\nECO BB</th>\n",
       "      <td>Optical back-scattering</td>\n",
       "      <td>NC</td>\n",
       "      <td>250;500;1000 NTU\\n5 /m</td>\n",
       "      <td>NC</td>\n",
       "      <td>NC</td>\n",
       "      <td>8 Hz</td>\n",
       "      <td>NC</td>\n",
       "      <td>NC</td>\n",
       "      <td>NC</td>\n",
       "      <td>Diameter : 6.3 cm\\nLength : 12.7 cm (std) ; 17.68 cm (deep)\\nMaterials : Acetal copolymer (std) ; Titanium (deep)</td>\n",
       "      <td>300 m (models B, S and SB)\\n600m (std)\\n6000m (deep)</td>\n",
       "      <td>Analog signal : 0-5 V\\nDAQ : 14 bits (16380 counts)\\nConnector : MCBH6MP\\nCommunication : RS-232 (19200 baud)</td>\n",
       "      <td>11 000 € (Feb., 2024)</td>\n",
       "      <td>ECO NTU Turbidity Sensor\\nECO Scattering Sensor</td>\n",
       "      <td>SeaBird Scientific</td>\n",
       "    </tr>\n",
       "    <tr>\n",
       "      <th>STM-S</th>\n",
       "      <td>Optical back-scattering</td>\n",
       "      <td>NC</td>\n",
       "      <td>25;125;500;4000 FTU</td>\n",
       "      <td>NC</td>\n",
       "      <td>0.1 s</td>\n",
       "      <td>NC</td>\n",
       "      <td>NC</td>\n",
       "      <td>NC</td>\n",
       "      <td>NC</td>\n",
       "      <td>Diameter : 25.4 mm\\nLength : 66.5 mm (connector version) ; 56.4 mm (bulkhead version)\\nMaterial : rigid polyurethane, epoxy</td>\n",
       "      <td>6000 m</td>\n",
       "      <td>Output : 0-5 V\\nConnectors : AG306, MCBH6M, bulkhead</td>\n",
       "      <td>2 340 $ (Sep., 2024)</td>\n",
       "      <td>Seapoint Turbidity Meter</td>\n",
       "      <td>Seapoint Sensors, inc.</td>\n",
       "    </tr>\n",
       "    <tr>\n",
       "      <th>ClariVUE10</th>\n",
       "      <td>Optical side-scattering</td>\n",
       "      <td>0.5 FNU</td>\n",
       "      <td>4000 FNU</td>\n",
       "      <td>±2%</td>\n",
       "      <td>9 s</td>\n",
       "      <td>NC</td>\n",
       "      <td>NC</td>\n",
       "      <td>NC</td>\n",
       "      <td>NC</td>\n",
       "      <td>Diameter : 30.1 mm\\nLength : 166 mm\\nMaterial : Delrin plastic</td>\n",
       "      <td>30 m</td>\n",
       "      <td>Connector : Bronze 3-pin wet-mate\\nCommunication : SDI-12</td>\n",
       "      <td>NC</td>\n",
       "      <td>ClariVUE10 Product Brochures</td>\n",
       "      <td>Campbell Scientific</td>\n",
       "    </tr>\n",
       "    <tr>\n",
       "      <th>WiSens TBD</th>\n",
       "      <td>Optical back-scattering</td>\n",
       "      <td>0.4 FNU</td>\n",
       "      <td>4000 FNU</td>\n",
       "      <td>0,5 %</td>\n",
       "      <td>NC</td>\n",
       "      <td>1 Hz</td>\n",
       "      <td>NC</td>\n",
       "      <td>NC</td>\n",
       "      <td>NC</td>\n",
       "      <td>Diameter : 45 mm\\nLength : 220 mm</td>\n",
       "      <td>300m</td>\n",
       "      <td>Communication : WiFi</td>\n",
       "      <td>5 100 € (Dec., 2019)\\n+ wiper : 2 600 € (Dec., 2019)</td>\n",
       "      <td>WiSens TBD Datasheet</td>\n",
       "      <td>NKE Instrumentation</td>\n",
       "    </tr>\n",
       "    <tr>\n",
       "      <th>Turbidity Plus</th>\n",
       "      <td>Optical back-scattering</td>\n",
       "      <td>0 – 10 NTU (+/- 0.1 NTU)\\r\\n10 – 1000 NTU (+/- 0.4 NTU)</td>\n",
       "      <td>3000 NTU</td>\n",
       "      <td>> 1000 NTU (+/- 0.04% of NTU)</td>\n",
       "      <td>< 3 s</td>\n",
       "      <td>NC</td>\n",
       "      <td>NC</td>\n",
       "      <td>NC</td>\n",
       "      <td>NC</td>\n",
       "      <td>Diameter : 3.01 cm\\nLength : 15.49 cm\\nMaterial : Delrin</td>\n",
       "      <td>200 m</td>\n",
       "      <td>Signal output : 0-5 V</td>\n",
       "      <td>1 327 € (Apr., 2019)</td>\n",
       "      <td>Turbidity Plus Product Datasheet</td>\n",
       "      <td>Turner Designs</td>\n",
       "    </tr>\n",
       "    <tr>\n",
       "      <th>SEN0189</th>\n",
       "      <td>Optical transmissiometry</td>\n",
       "      <td>NC</td>\n",
       "      <td>NC</td>\n",
       "      <td>NC</td>\n",
       "      <td>< 500 ms</td>\n",
       "      <td>NC</td>\n",
       "      <td>NC</td>\n",
       "      <td>NC</td>\n",
       "      <td>NC</td>\n",
       "      <td>Diameter : 27.8 mm\\nLength : 34.1 mm\\nMaterial : PP</td>\n",
       "      <td>NO waterproof</td>\n",
       "      <td>Analog output : 0-4.5 V\\nDigital output\\nConnector : molex</td>\n",
       "      <td>nearly 10 €</td>\n",
       "      <td>SEN0189 Datasheet</td>\n",
       "      <td>DF ROBOT</td>\n",
       "    </tr>\n",
       "  </tbody>\n",
       "</table>"
      ],
      "text/plain": [
       "<IPython.core.display.HTML object>"
      ]
     },
     "execution_count": 5,
     "metadata": {},
     "output_type": "execute_result"
    }
   ],
   "source": [
    "# https://pandas.pydata.org/pandas-docs/stable/user_guide/style.html \n",
    "\n",
    "import pandas as pd\n",
    "from IPython.display import HTML\n",
    "\n",
    "s = (\n",
    "    pd.read_csv(\"sensors_turbidity.csv\", skiprows=1)\n",
    "    .rename(columns=lambda x: x.strip())\n",
    "    .set_index(\"sensor name\")\n",
    ")\n",
    "# duplicate column to have an artificially wide table\n",
    "#s = pd.concat([s,s,s], axis=1)\n",
    "#s = pd.concat([s,]*10, axis=0) \n",
    "\n",
    "# can't \n",
    "# https://stackoverflow.com/questions/76157621/pandas-sticky-column-headers-using-styler-not-working-sticky-index-rows-works-g\n",
    "# https://stackoverflow.com/questions/42724327/pandas-dataframe-table-vertical-scrollbars\n",
    "HTML(\n",
    "    s\n",
    "    .to_html(render_links=True, escape=False, na_rep=\" \")\n",
    "    #.style.set_sticky(axis=\"index\").set_sticky(axis=\"columns\")\n",
    ")\n",
    "\n",
    "# not satisfactory as it hides rows\n",
    "#HTML(s.style.set_sticky(axis=\"columns\").to_html(render_links=True, escape=False, max_rows=5))"
   ]
  }
 ],
 "metadata": {
  "kernelspec": {
   "display_name": "Python 3 (ipykernel)",
   "language": "python",
   "name": "python3"
  },
  "language_info": {
   "codemirror_mode": {
    "name": "ipython",
    "version": 3
   },
   "file_extension": ".py",
   "mimetype": "text/x-python",
   "name": "python",
   "nbconvert_exporter": "python",
   "pygments_lexer": "ipython3",
   "version": "3.11.12"
  }
 },
 "nbformat": 4,
 "nbformat_minor": 5
}
