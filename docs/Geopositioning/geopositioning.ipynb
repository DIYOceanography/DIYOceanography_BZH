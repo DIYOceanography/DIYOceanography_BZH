{
 "cells": [
  {
   "cell_type": "markdown",
   "id": "d0b8bdbc-1cce-420e-8a7e-3519095346ba",
   "metadata": {},
   "source": [
    "# Geopositioning \n",
    "\n",
    "Geopositioning is the process of determining or estimating the geographic position of an object or a person. Geopositioning yields a set of geographic coordinates (such as latitude and longitude) in a given map datum.\n",
    "\n",
    "**contributions:**\n",
    "- Pierre Bosser, Clémence Chupin : 07/2025"
   ]
  },
  {
   "cell_type": "markdown",
   "id": "0d788d34",
   "metadata": {},
   "source": [
    "---\n",
    "\n",
    "## background, sensing physics"
   ]
  },
  {
   "cell_type": "code",
   "execution_count": 2,
   "id": "02269056-4819-4e23-a579-4a38a82fd887",
   "metadata": {
    "tags": [
     "remove-input"
    ]
   },
   "outputs": [
    {
     "data": {
      "text/html": [
       "<iframe src=../_static/interlude_GNSS.pdf width=800 height=500 toolbar=../_static/interlude_GNSS.pdf></iframe>"
      ],
      "text/latex": [
       "\\includegraphics[width=1.0\\textwidth]{../_static/interlude_GNSS.pdf}"
      ],
      "text/plain": [
       "<__main__.PDF at 0x10c91ffd0>"
      ]
     },
     "execution_count": 2,
     "metadata": {},
     "output_type": "execute_result"
    }
   ],
   "source": [
    "class PDF(object):\n",
    "  def __init__(self, pdf, size=(200,200)):\n",
    "    self.pdf = pdf\n",
    "    self.size = size\n",
    "\n",
    "  def _repr_html_(self):\n",
    "    return '<iframe src={0} width={1[0]} height={1[1]} toolbar={0}></iframe>'.format(self.pdf, self.size)\n",
    "\n",
    "  def _repr_latex_(self):\n",
    "    return r'\\includegraphics[width=1.0\\textwidth]{{{0}}}'.format(self.pdf)\n",
    "  \n",
    "PDF(\"../_static/interlude_GNSS.pdf\", size=(800,500))"
   ]
  },
  {
   "cell_type": "code",
   "execution_count": null,
   "id": "0d9a1fec",
   "metadata": {},
   "outputs": [],
   "source": []
  }
 ],
 "metadata": {
  "kernelspec": {
   "display_name": "diyocean",
   "language": "python",
   "name": "python3"
  },
  "language_info": {
   "codemirror_mode": {
    "name": "ipython",
    "version": 3
   },
   "file_extension": ".py",
   "mimetype": "text/x-python",
   "name": "python",
   "nbconvert_exporter": "python",
   "pygments_lexer": "ipython3",
   "version": "3.11.13"
  }
 },
 "nbformat": 4,
 "nbformat_minor": 5
}
